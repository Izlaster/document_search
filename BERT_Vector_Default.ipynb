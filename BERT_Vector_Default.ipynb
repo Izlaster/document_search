{
 "cells": [
  {
   "cell_type": "code",
   "execution_count": 1,
   "id": "9967cffe-6d7a-40cf-82e8-f6b07cc31084",
   "metadata": {},
   "outputs": [],
   "source": [
    "import os\n",
    "import faiss\n",
    "import numpy as np\n",
    "from tqdm import tqdm\n",
    "from sentence_transformers import SentenceTransformer"
   ]
  },
  {
   "cell_type": "markdown",
   "id": "df697978-35ea-483a-b1cb-20ac9f8092d1",
   "metadata": {},
   "source": [
    "## Этап 1. Загрузка текстов из файлов"
   ]
  },
  {
   "cell_type": "code",
   "execution_count": 2,
   "id": "84a5c29c-11a9-402c-8709-947f89509e6d",
   "metadata": {},
   "outputs": [],
   "source": [
    "TEXT_FILES_DIR = \"garant\""
   ]
  },
  {
   "cell_type": "code",
   "execution_count": 3,
   "id": "45946239-075b-4010-94c3-8a233a8d63cd",
   "metadata": {},
   "outputs": [],
   "source": [
    "def load_texts_from_folder(folder_path):\n",
    "    texts = []\n",
    "    filenames = []\n",
    "    for file in tqdm(sorted(os.listdir(folder_path)), desc=\"Загрузка текстов\"):\n",
    "        if file.endswith(\".txt\"):\n",
    "            file_path = os.path.join(folder_path, file)\n",
    "            with open(file_path, \"r\", encoding=\"utf-8\") as f:\n",
    "                text = f.read().strip()\n",
    "                texts.append(text)\n",
    "                filenames.append(file)\n",
    "    return texts, filenames"
   ]
  },
  {
   "cell_type": "code",
   "execution_count": 4,
   "id": "96c254b4-4bf9-4f1c-8380-e4c57fc8e9aa",
   "metadata": {},
   "outputs": [
    {
     "name": "stderr",
     "output_type": "stream",
     "text": [
      "Загрузка текстов: 100%|█████████████████████████████████████████████████████████████████████████████████████████████████████████████████████████████████████████| 1628/1628 [00:17<00:00, 93.70it/s]\n"
     ]
    }
   ],
   "source": [
    "texts, filenames = load_texts_from_folder(TEXT_FILES_DIR)"
   ]
  },
  {
   "cell_type": "markdown",
   "id": "c8b30ee8-e4f1-4af1-b60e-bfb4e9db54f1",
   "metadata": {},
   "source": [
    "## Этап 2. Создание эмбеддингов"
   ]
  },
  {
   "cell_type": "code",
   "execution_count": 5,
   "id": "06da0aca-b16a-4466-824e-856f639d8ebd",
   "metadata": {},
   "outputs": [],
   "source": [
    "MODEL_NAME = \"sentence-transformers/paraphrase-multilingual-MiniLM-L12-v2\"\n",
    "model = SentenceTransformer(MODEL_NAME)"
   ]
  },
  {
   "cell_type": "code",
   "execution_count": 6,
   "id": "6887eff9-a9dd-4b14-af72-f5a2e3e380e3",
   "metadata": {},
   "outputs": [
    {
     "data": {
      "application/vnd.jupyter.widget-view+json": {
       "model_id": "ba00a37f9fd943ae9566eb3dfa77275a",
       "version_major": 2,
       "version_minor": 0
      },
      "text/plain": [
       "Batches:   0%|          | 0/102 [00:00<?, ?it/s]"
      ]
     },
     "metadata": {},
     "output_type": "display_data"
    },
    {
     "name": "stdout",
     "output_type": "stream",
     "text": [
      "\n",
      "Размерность эмбеддингов: (1628, 384)\n"
     ]
    }
   ],
   "source": [
    "text_embeddings = model.encode(texts, batch_size=16, convert_to_numpy=True, show_progress_bar=True)\n",
    "print(f\"\\nРазмерность эмбеддингов: {text_embeddings.shape}\")"
   ]
  },
  {
   "cell_type": "markdown",
   "id": "0dfb1b98-4b19-42e3-9e09-2719f60366aa",
   "metadata": {},
   "source": [
    "## Этап 3: Создание FAISS-индекса"
   ]
  },
  {
   "cell_type": "markdown",
   "id": "ae3f0270-13d3-4560-804e-d25f7c0dfc59",
   "metadata": {},
   "source": [
    "FAISS используется для быстрого поиска среди эмбеддингов"
   ]
  },
  {
   "cell_type": "code",
   "execution_count": 7,
   "id": "9d2fff4e-3f52-4829-9d27-9797115d6724",
   "metadata": {},
   "outputs": [],
   "source": [
    "dimension = text_embeddings.shape[1]"
   ]
  },
  {
   "cell_type": "markdown",
   "id": "2e4eb8d5-7f42-4f3a-865a-41fd622e1692",
   "metadata": {},
   "source": [
    "Создаём FAISS-индекс"
   ]
  },
  {
   "cell_type": "code",
   "execution_count": 8,
   "id": "b21aeea6-fa7d-4b4e-9a0c-c4b20e32679a",
   "metadata": {},
   "outputs": [],
   "source": [
    "index = faiss.IndexFlatL2(dimension)  # поиск с использованием L2-дистанции (евклидово расстояние)\n",
    "index.add(text_embeddings)"
   ]
  },
  {
   "cell_type": "markdown",
   "id": "8f0b55eb-7069-49c7-8564-99e3c403724b",
   "metadata": {},
   "source": [
    "Сохраняем индекс для последующего использования"
   ]
  },
  {
   "cell_type": "code",
   "execution_count": 9,
   "id": "b697f6e3-6c3e-46cc-bf12-c254f78fb8e3",
   "metadata": {},
   "outputs": [
    {
     "ename": "RuntimeError",
     "evalue": "Error in faiss::FileIOWriter::FileIOWriter(const char*) at /project/faiss/faiss/impl/io.cpp:101: Error: 'f' failed: could not open results_BERT/text_index.faiss for writing: No such file or directory",
     "output_type": "error",
     "traceback": [
      "\u001b[31m---------------------------------------------------------------------------\u001b[39m",
      "\u001b[31mRuntimeError\u001b[39m                              Traceback (most recent call last)",
      "\u001b[32m/tmp/ipykernel_2043/1454666588.py\u001b[39m in \u001b[36m?\u001b[39m\u001b[34m()\u001b[39m\n\u001b[32m----> \u001b[39m\u001b[32m1\u001b[39m faiss.write_index(index, \u001b[33m\"results_BERT/text_index.faiss\"\u001b[39m)\n\u001b[32m      2\u001b[39m np.save(\u001b[33m\"results_BERT/filenames.npy\"\u001b[39m, np.array(filenames))  \u001b[38;5;66;03m# сохраняем список имён файлов\u001b[39;00m\n",
      "\u001b[32m~/.cache/pypoetry/virtualenvs/work-xYHIOL2S-py3.12/lib/python3.12/site-packages/faiss/swigfaiss_avx2.py\u001b[39m in \u001b[36m?\u001b[39m\u001b[34m(*args)\u001b[39m\n\u001b[32m  10940\u001b[39m \u001b[38;5;28;01mdef\u001b[39;00m write_index(*args):\n\u001b[32m> \u001b[39m\u001b[32m10941\u001b[39m     \u001b[38;5;28;01mreturn\u001b[39;00m _swigfaiss_avx2.write_index(*args)\n",
      "\u001b[31mRuntimeError\u001b[39m: Error in faiss::FileIOWriter::FileIOWriter(const char*) at /project/faiss/faiss/impl/io.cpp:101: Error: 'f' failed: could not open results_BERT/text_index.faiss for writing: No such file or directory"
     ]
    }
   ],
   "source": [
    "faiss.write_index(index, \"results_BERT/text_index.faiss\")\n",
    "np.save(\"results_BERT/filenames.npy\", np.array(filenames))  # сохраняем список имён файлов"
   ]
  },
  {
   "cell_type": "markdown",
   "id": "0085d0a7-23bd-4b81-ba81-da59a86ae48c",
   "metadata": {},
   "source": [
    "## Этап 4: Функция поиска похожих текстов"
   ]
  },
  {
   "cell_type": "code",
   "execution_count": null,
   "id": "6a26647c-d339-485d-a93b-39a8e239bdc5",
   "metadata": {},
   "outputs": [],
   "source": [
    "def find_similar_texts(query, top_k=5):\n",
    "    query_embedding = model.encode([query], convert_to_numpy=True) # преобразуем запрос в эмбеддинг\n",
    "    distances, indices = index.search(query_embedding, top_k) # выполняем поиск в FAISS\n",
    "\n",
    "    print(\"Наиболее похожие тексты:\")\n",
    "    for i, idx in enumerate(indices[0]):\n",
    "        print(f\"{i+1}. {filenames[idx]} (дистанция: {distances[0][i]:.4f})\")\n",
    "        print(texts[idx][:300] + \"...\")  # выводим первые 300 символов текста\n",
    "        print(\"-\" * 80)"
   ]
  },
  {
   "cell_type": "code",
   "execution_count": null,
   "id": "ab346c0c-b089-4d8b-aa4b-16feaa1afbbd",
   "metadata": {},
   "outputs": [],
   "source": [
    "query_text = \"Международный день инвалидов в Хабаровске\"\n",
    "find_similar_texts(query_text, top_k=20)"
   ]
  }
 ],
 "metadata": {
  "kernelspec": {
   "display_name": "Python 3 (ipykernel)",
   "language": "python",
   "name": "python3"
  },
  "language_info": {
   "codemirror_mode": {
    "name": "ipython",
    "version": 3
   },
   "file_extension": ".py",
   "mimetype": "text/x-python",
   "name": "python",
   "nbconvert_exporter": "python",
   "pygments_lexer": "ipython3",
   "version": "3.12.3"
  }
 },
 "nbformat": 4,
 "nbformat_minor": 5
}
