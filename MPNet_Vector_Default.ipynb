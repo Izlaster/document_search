{
 "cells": [
  {
   "cell_type": "code",
   "execution_count": null,
   "id": "9967cffe-6d7a-40cf-82e8-f6b07cc31084",
   "metadata": {},
   "outputs": [],
   "source": [
    "import os\n",
    "import faiss\n",
    "import numpy as np\n",
    "from tqdm import tqdm\n",
    "from sentence_transformers import SentenceTransformer"
   ]
  },
  {
   "cell_type": "markdown",
   "id": "df697978-35ea-483a-b1cb-20ac9f8092d1",
   "metadata": {},
   "source": [
    "## Этап 1. Загрузка текстов из файлов"
   ]
  },
  {
   "cell_type": "code",
   "execution_count": null,
   "id": "84a5c29c-11a9-402c-8709-947f89509e6d",
   "metadata": {},
   "outputs": [],
   "source": [
    "TEXT_FILES_DIR = \"garant\""
   ]
  },
  {
   "cell_type": "code",
   "execution_count": null,
   "id": "45946239-075b-4010-94c3-8a233a8d63cd",
   "metadata": {},
   "outputs": [],
   "source": [
    "def load_texts_from_folder(folder_path):\n",
    "    texts = []\n",
    "    filenames = []\n",
    "    for file in tqdm(sorted(os.listdir(folder_path)), desc=\"Загрузка текстов\"):\n",
    "        if file.endswith(\".txt\"):\n",
    "            file_path = os.path.join(folder_path, file)\n",
    "            with open(file_path, \"r\", encoding=\"utf-8\") as f:\n",
    "                text = f.read().strip()\n",
    "                texts.append(text)\n",
    "                filenames.append(file)\n",
    "    return texts, filenames"
   ]
  },
  {
   "cell_type": "code",
   "execution_count": null,
   "id": "96c254b4-4bf9-4f1c-8380-e4c57fc8e9aa",
   "metadata": {},
   "outputs": [],
   "source": [
    "texts, filenames = load_texts_from_folder(TEXT_FILES_DIR)"
   ]
  },
  {
   "cell_type": "markdown",
   "id": "c8b30ee8-e4f1-4af1-b60e-bfb4e9db54f1",
   "metadata": {},
   "source": [
    "## Этап 2. Создание эмбеддингов"
   ]
  },
  {
   "cell_type": "code",
   "execution_count": null,
   "id": "06da0aca-b16a-4466-824e-856f639d8ebd",
   "metadata": {},
   "outputs": [],
   "source": [
    "MODEL_NAME = \"sentence-transformers/paraphrase-multilingual-mpnet-base-v2\"\n",
    "model = SentenceTransformer(MODEL_NAME)"
   ]
  },
  {
   "cell_type": "code",
   "execution_count": null,
   "id": "6887eff9-a9dd-4b14-af72-f5a2e3e380e3",
   "metadata": {},
   "outputs": [],
   "source": [
    "text_embeddings = model.encode(texts, batch_size=16, convert_to_numpy=True, show_progress_bar=True)\n",
    "print(f\"\\nРазмерность эмбеддингов: {text_embeddings.shape}\")"
   ]
  },
  {
   "cell_type": "markdown",
   "id": "0dfb1b98-4b19-42e3-9e09-2719f60366aa",
   "metadata": {},
   "source": [
    "## Этап 3: Создание FAISS-индекса"
   ]
  },
  {
   "cell_type": "markdown",
   "id": "ae3f0270-13d3-4560-804e-d25f7c0dfc59",
   "metadata": {},
   "source": [
    "FAISS используется для быстрого поиска среди эмбеддингов"
   ]
  },
  {
   "cell_type": "code",
   "execution_count": null,
   "id": "9d2fff4e-3f52-4829-9d27-9797115d6724",
   "metadata": {},
   "outputs": [],
   "source": [
    "norms = np.linalg.norm(text_embeddings, axis=1, keepdims=True)\n",
    "text_embeddings_normalized = text_embeddings / norms\n",
    "dimension = text_embeddings.shape[1]"
   ]
  },
  {
   "cell_type": "markdown",
   "id": "2e4eb8d5-7f42-4f3a-865a-41fd622e1692",
   "metadata": {},
   "source": [
    "Создаём FAISS-индекс"
   ]
  },
  {
   "cell_type": "code",
   "execution_count": null,
   "id": "b21aeea6-fa7d-4b4e-9a0c-c4b20e32679a",
   "metadata": {},
   "outputs": [],
   "source": [
    "index = faiss.IndexFlatL2(dimension)\n",
    "index.add(text_embeddings_normalized.astype('float32'))"
   ]
  },
  {
   "cell_type": "markdown",
   "id": "8f0b55eb-7069-49c7-8564-99e3c403724b",
   "metadata": {},
   "source": [
    "Сохраняем индекс для последующего использования"
   ]
  },
  {
   "cell_type": "code",
   "execution_count": null,
   "id": "b697f6e3-6c3e-46cc-bf12-c254f78fb8e3",
   "metadata": {},
   "outputs": [],
   "source": [
    "faiss.write_index(index, \"results_MPNet_Default/text_index.faiss\")\n",
    "np.save(\"results_MPNet_Default/filenames.npy\", np.array(filenames))  # сохраняем список имён файлов"
   ]
  },
  {
   "cell_type": "markdown",
   "id": "0085d0a7-23bd-4b81-ba81-da59a86ae48c",
   "metadata": {},
   "source": [
    "## Этап 4: Функция поиска похожих текстов"
   ]
  },
  {
   "cell_type": "code",
   "execution_count": null,
   "id": "6a26647c-d339-485d-a93b-39a8e239bdc5",
   "metadata": {},
   "outputs": [],
   "source": [
    "def find_similar_texts(query, top_k=5):\n",
    "    query_embedding = model.encode([query], convert_to_numpy=True) # преобразуем запрос в эмбеддинг\n",
    "    distances, indices = index.search(query_embedding, top_k) # выполняем поиск в FAISS\n",
    "\n",
    "    print(\"Наиболее похожие тексты:\")\n",
    "    for i, idx in enumerate(indices[0]):\n",
    "        print(f\"{i+1}. {filenames[idx]} (дистанция: {distances[0][i]:.4f})\")\n",
    "        print(texts[idx][:300] + \"...\")  # выводим первые 300 символов текста\n",
    "        print(\"-\" * 80)"
   ]
  },
  {
   "cell_type": "code",
   "execution_count": null,
   "id": "ab346c0c-b089-4d8b-aa4b-16feaa1afbbd",
   "metadata": {},
   "outputs": [],
   "source": [
    "query_text = \"Международный день инвалидов в Хабаровске\"\n",
    "find_similar_texts(query_text, top_k=20)"
   ]
  }
 ],
 "metadata": {
  "kernelspec": {
   "display_name": "Python 3 (ipykernel)",
   "language": "python",
   "name": "python3"
  },
  "language_info": {
   "codemirror_mode": {
    "name": "ipython",
    "version": 3
   },
   "file_extension": ".py",
   "mimetype": "text/x-python",
   "name": "python",
   "nbconvert_exporter": "python",
   "pygments_lexer": "ipython3",
   "version": "3.12.3"
  }
 },
 "nbformat": 4,
 "nbformat_minor": 5
}
